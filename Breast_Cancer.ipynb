{
  "nbformat": 4,
  "nbformat_minor": 0,
  "metadata": {
    "colab": {
      "provenance": [],
      "include_colab_link": true
    },
    "kernelspec": {
      "name": "python3",
      "display_name": "Python 3"
    },
    "language_info": {
      "name": "python"
    }
  },
  "cells": [
    {
      "cell_type": "markdown",
      "metadata": {
        "id": "view-in-github",
        "colab_type": "text"
      },
      "source": [
        "<a href=\"https://colab.research.google.com/github/Jay123ch/Data-Science/blob/main/Breast_Cancer.ipynb\" target=\"_parent\"><img src=\"https://colab.research.google.com/assets/colab-badge.svg\" alt=\"Open In Colab\"/></a>"
      ]
    },
    {
      "cell_type": "code",
      "execution_count": null,
      "metadata": {
        "id": "0LR-mBKo5uAM"
      },
      "outputs": [],
      "source": [
        "import pandas as pd\n",
        "from sklearn.ensemble import RandomForestClassifier\n",
        "from sklearn.metrics import confusion_matrix,accuracy_score,precision_score,recall_score\n",
        "import matplotlib.pyplot as plt"
      ]
    },
    {
      "cell_type": "code",
      "source": [
        "data = pd.read_csv(\"Breast_cancer_data.csv\")\n",
        "data.head()"
      ],
      "metadata": {
        "colab": {
          "base_uri": "https://localhost:8080/",
          "height": 206
        },
        "id": "piwg0_KJ79O4",
        "outputId": "b56805b0-2ec8-4f62-ca11-538de3604ebc"
      },
      "execution_count": null,
      "outputs": [
        {
          "output_type": "execute_result",
          "data": {
            "text/plain": [
              "   mean_radius  mean_texture  mean_perimeter  mean_area  mean_smoothness  \\\n",
              "0        17.99         10.38          122.80     1001.0          0.11840   \n",
              "1        20.57         17.77          132.90     1326.0          0.08474   \n",
              "2        19.69         21.25          130.00     1203.0          0.10960   \n",
              "3        11.42         20.38           77.58      386.1          0.14250   \n",
              "4        20.29         14.34          135.10     1297.0          0.10030   \n",
              "\n",
              "   diagnosis  \n",
              "0          0  \n",
              "1          0  \n",
              "2          0  \n",
              "3          0  \n",
              "4          0  "
            ],
            "text/html": [
              "\n",
              "  <div id=\"df-694e0b31-2818-48a2-9013-88122c0059bc\" class=\"colab-df-container\">\n",
              "    <div>\n",
              "<style scoped>\n",
              "    .dataframe tbody tr th:only-of-type {\n",
              "        vertical-align: middle;\n",
              "    }\n",
              "\n",
              "    .dataframe tbody tr th {\n",
              "        vertical-align: top;\n",
              "    }\n",
              "\n",
              "    .dataframe thead th {\n",
              "        text-align: right;\n",
              "    }\n",
              "</style>\n",
              "<table border=\"1\" class=\"dataframe\">\n",
              "  <thead>\n",
              "    <tr style=\"text-align: right;\">\n",
              "      <th></th>\n",
              "      <th>mean_radius</th>\n",
              "      <th>mean_texture</th>\n",
              "      <th>mean_perimeter</th>\n",
              "      <th>mean_area</th>\n",
              "      <th>mean_smoothness</th>\n",
              "      <th>diagnosis</th>\n",
              "    </tr>\n",
              "  </thead>\n",
              "  <tbody>\n",
              "    <tr>\n",
              "      <th>0</th>\n",
              "      <td>17.99</td>\n",
              "      <td>10.38</td>\n",
              "      <td>122.80</td>\n",
              "      <td>1001.0</td>\n",
              "      <td>0.11840</td>\n",
              "      <td>0</td>\n",
              "    </tr>\n",
              "    <tr>\n",
              "      <th>1</th>\n",
              "      <td>20.57</td>\n",
              "      <td>17.77</td>\n",
              "      <td>132.90</td>\n",
              "      <td>1326.0</td>\n",
              "      <td>0.08474</td>\n",
              "      <td>0</td>\n",
              "    </tr>\n",
              "    <tr>\n",
              "      <th>2</th>\n",
              "      <td>19.69</td>\n",
              "      <td>21.25</td>\n",
              "      <td>130.00</td>\n",
              "      <td>1203.0</td>\n",
              "      <td>0.10960</td>\n",
              "      <td>0</td>\n",
              "    </tr>\n",
              "    <tr>\n",
              "      <th>3</th>\n",
              "      <td>11.42</td>\n",
              "      <td>20.38</td>\n",
              "      <td>77.58</td>\n",
              "      <td>386.1</td>\n",
              "      <td>0.14250</td>\n",
              "      <td>0</td>\n",
              "    </tr>\n",
              "    <tr>\n",
              "      <th>4</th>\n",
              "      <td>20.29</td>\n",
              "      <td>14.34</td>\n",
              "      <td>135.10</td>\n",
              "      <td>1297.0</td>\n",
              "      <td>0.10030</td>\n",
              "      <td>0</td>\n",
              "    </tr>\n",
              "  </tbody>\n",
              "</table>\n",
              "</div>\n",
              "    <div class=\"colab-df-buttons\">\n",
              "\n",
              "  <div class=\"colab-df-container\">\n",
              "    <button class=\"colab-df-convert\" onclick=\"convertToInteractive('df-694e0b31-2818-48a2-9013-88122c0059bc')\"\n",
              "            title=\"Convert this dataframe to an interactive table.\"\n",
              "            style=\"display:none;\">\n",
              "\n",
              "  <svg xmlns=\"http://www.w3.org/2000/svg\" height=\"24px\" viewBox=\"0 -960 960 960\">\n",
              "    <path d=\"M120-120v-720h720v720H120Zm60-500h600v-160H180v160Zm220 220h160v-160H400v160Zm0 220h160v-160H400v160ZM180-400h160v-160H180v160Zm440 0h160v-160H620v160ZM180-180h160v-160H180v160Zm440 0h160v-160H620v160Z\"/>\n",
              "  </svg>\n",
              "    </button>\n",
              "\n",
              "  <style>\n",
              "    .colab-df-container {\n",
              "      display:flex;\n",
              "      gap: 12px;\n",
              "    }\n",
              "\n",
              "    .colab-df-convert {\n",
              "      background-color: #E8F0FE;\n",
              "      border: none;\n",
              "      border-radius: 50%;\n",
              "      cursor: pointer;\n",
              "      display: none;\n",
              "      fill: #1967D2;\n",
              "      height: 32px;\n",
              "      padding: 0 0 0 0;\n",
              "      width: 32px;\n",
              "    }\n",
              "\n",
              "    .colab-df-convert:hover {\n",
              "      background-color: #E2EBFA;\n",
              "      box-shadow: 0px 1px 2px rgba(60, 64, 67, 0.3), 0px 1px 3px 1px rgba(60, 64, 67, 0.15);\n",
              "      fill: #174EA6;\n",
              "    }\n",
              "\n",
              "    .colab-df-buttons div {\n",
              "      margin-bottom: 4px;\n",
              "    }\n",
              "\n",
              "    [theme=dark] .colab-df-convert {\n",
              "      background-color: #3B4455;\n",
              "      fill: #D2E3FC;\n",
              "    }\n",
              "\n",
              "    [theme=dark] .colab-df-convert:hover {\n",
              "      background-color: #434B5C;\n",
              "      box-shadow: 0px 1px 3px 1px rgba(0, 0, 0, 0.15);\n",
              "      filter: drop-shadow(0px 1px 2px rgba(0, 0, 0, 0.3));\n",
              "      fill: #FFFFFF;\n",
              "    }\n",
              "  </style>\n",
              "\n",
              "    <script>\n",
              "      const buttonEl =\n",
              "        document.querySelector('#df-694e0b31-2818-48a2-9013-88122c0059bc button.colab-df-convert');\n",
              "      buttonEl.style.display =\n",
              "        google.colab.kernel.accessAllowed ? 'block' : 'none';\n",
              "\n",
              "      async function convertToInteractive(key) {\n",
              "        const element = document.querySelector('#df-694e0b31-2818-48a2-9013-88122c0059bc');\n",
              "        const dataTable =\n",
              "          await google.colab.kernel.invokeFunction('convertToInteractive',\n",
              "                                                    [key], {});\n",
              "        if (!dataTable) return;\n",
              "\n",
              "        const docLinkHtml = 'Like what you see? Visit the ' +\n",
              "          '<a target=\"_blank\" href=https://colab.research.google.com/notebooks/data_table.ipynb>data table notebook</a>'\n",
              "          + ' to learn more about interactive tables.';\n",
              "        element.innerHTML = '';\n",
              "        dataTable['output_type'] = 'display_data';\n",
              "        await google.colab.output.renderOutput(dataTable, element);\n",
              "        const docLink = document.createElement('div');\n",
              "        docLink.innerHTML = docLinkHtml;\n",
              "        element.appendChild(docLink);\n",
              "      }\n",
              "    </script>\n",
              "  </div>\n",
              "\n",
              "\n",
              "<div id=\"df-47497fed-5935-42be-9f3e-f82a03c88be4\">\n",
              "  <button class=\"colab-df-quickchart\" onclick=\"quickchart('df-47497fed-5935-42be-9f3e-f82a03c88be4')\"\n",
              "            title=\"Suggest charts.\"\n",
              "            style=\"display:none;\">\n",
              "\n",
              "<svg xmlns=\"http://www.w3.org/2000/svg\" height=\"24px\"viewBox=\"0 0 24 24\"\n",
              "     width=\"24px\">\n",
              "    <g>\n",
              "        <path d=\"M19 3H5c-1.1 0-2 .9-2 2v14c0 1.1.9 2 2 2h14c1.1 0 2-.9 2-2V5c0-1.1-.9-2-2-2zM9 17H7v-7h2v7zm4 0h-2V7h2v10zm4 0h-2v-4h2v4z\"/>\n",
              "    </g>\n",
              "</svg>\n",
              "  </button>\n",
              "\n",
              "<style>\n",
              "  .colab-df-quickchart {\n",
              "    background-color: #E8F0FE;\n",
              "    border: none;\n",
              "    border-radius: 50%;\n",
              "    cursor: pointer;\n",
              "    display: none;\n",
              "    fill: #1967D2;\n",
              "    height: 32px;\n",
              "    padding: 0 0 0 0;\n",
              "    width: 32px;\n",
              "  }\n",
              "\n",
              "  .colab-df-quickchart:hover {\n",
              "    background-color: #E2EBFA;\n",
              "    box-shadow: 0px 1px 2px rgba(60, 64, 67, 0.3), 0px 1px 3px 1px rgba(60, 64, 67, 0.15);\n",
              "    fill: #174EA6;\n",
              "  }\n",
              "\n",
              "  [theme=dark] .colab-df-quickchart {\n",
              "    background-color: #3B4455;\n",
              "    fill: #D2E3FC;\n",
              "  }\n",
              "\n",
              "  [theme=dark] .colab-df-quickchart:hover {\n",
              "    background-color: #434B5C;\n",
              "    box-shadow: 0px 1px 3px 1px rgba(0, 0, 0, 0.15);\n",
              "    filter: drop-shadow(0px 1px 2px rgba(0, 0, 0, 0.3));\n",
              "    fill: #FFFFFF;\n",
              "  }\n",
              "</style>\n",
              "\n",
              "  <script>\n",
              "    async function quickchart(key) {\n",
              "      const charts = await google.colab.kernel.invokeFunction(\n",
              "          'suggestCharts', [key], {});\n",
              "    }\n",
              "    (() => {\n",
              "      let quickchartButtonEl =\n",
              "        document.querySelector('#df-47497fed-5935-42be-9f3e-f82a03c88be4 button');\n",
              "      quickchartButtonEl.style.display =\n",
              "        google.colab.kernel.accessAllowed ? 'block' : 'none';\n",
              "    })();\n",
              "  </script>\n",
              "</div>\n",
              "    </div>\n",
              "  </div>\n"
            ]
          },
          "metadata": {},
          "execution_count": 2
        }
      ]
    },
    {
      "cell_type": "code",
      "source": [
        "print(data.isnull().sum())"
      ],
      "metadata": {
        "colab": {
          "base_uri": "https://localhost:8080/"
        },
        "id": "Hqcx4snl8pjC",
        "outputId": "38a763c1-678d-46f8-cd5e-370f837e9bc4"
      },
      "execution_count": null,
      "outputs": [
        {
          "output_type": "stream",
          "name": "stdout",
          "text": [
            "mean_radius        0\n",
            "mean_texture       0\n",
            "mean_perimeter     0\n",
            "mean_area          0\n",
            "mean_smoothness    0\n",
            "diagnosis          0\n",
            "dtype: int64\n"
          ]
        }
      ]
    },
    {
      "cell_type": "code",
      "source": [
        "print(data.dtypes)"
      ],
      "metadata": {
        "colab": {
          "base_uri": "https://localhost:8080/"
        },
        "id": "hg1Aq8we-BvB",
        "outputId": "738aa75c-e696-4f62-efbd-4b4e239817e6"
      },
      "execution_count": null,
      "outputs": [
        {
          "output_type": "stream",
          "name": "stdout",
          "text": [
            "mean_radius        float64\n",
            "mean_texture       float64\n",
            "mean_perimeter     float64\n",
            "mean_area          float64\n",
            "mean_smoothness    float64\n",
            "diagnosis            int64\n",
            "dtype: object\n"
          ]
        }
      ]
    },
    {
      "cell_type": "code",
      "source": [
        "X = data.iloc[:,:-1].values\n",
        "y = data.iloc[:,-1].values"
      ],
      "metadata": {
        "id": "LWsj9ZEd-Jys"
      },
      "execution_count": null,
      "outputs": []
    },
    {
      "cell_type": "code",
      "source": [
        "print(X)\n",
        "print(y)"
      ],
      "metadata": {
        "colab": {
          "base_uri": "https://localhost:8080/"
        },
        "id": "GmcsqRYh-1pB",
        "outputId": "847cf021-cc71-4209-dae9-15a1acf19977"
      },
      "execution_count": null,
      "outputs": [
        {
          "output_type": "stream",
          "name": "stdout",
          "text": [
            "[[1.799e+01 1.038e+01 1.228e+02 1.001e+03 1.184e-01]\n",
            " [2.057e+01 1.777e+01 1.329e+02 1.326e+03 8.474e-02]\n",
            " [1.969e+01 2.125e+01 1.300e+02 1.203e+03 1.096e-01]\n",
            " ...\n",
            " [1.660e+01 2.808e+01 1.083e+02 8.581e+02 8.455e-02]\n",
            " [2.060e+01 2.933e+01 1.401e+02 1.265e+03 1.178e-01]\n",
            " [7.760e+00 2.454e+01 4.792e+01 1.810e+02 5.263e-02]]\n",
            "[0 0 0 0 0 0 0 0 0 0 0 0 0 0 0 0 0 0 0 1 1 1 0 0 0 0 0 0 0 0 0 0 0 0 0 0 0\n",
            " 1 0 0 0 0 0 0 0 0 1 0 1 1 1 1 1 0 0 1 0 0 1 1 1 1 0 1 0 0 1 1 1 1 0 1 0 0\n",
            " 1 0 1 0 0 1 1 1 0 0 1 0 0 0 1 1 1 0 1 1 0 0 1 1 1 0 0 1 1 1 1 0 1 1 0 1 1\n",
            " 1 1 1 1 1 1 0 0 0 1 0 0 1 1 1 0 0 1 0 1 0 0 1 0 0 1 1 0 1 1 0 1 1 1 1 0 1\n",
            " 1 1 1 1 1 1 1 1 0 1 1 1 1 0 0 1 0 1 1 0 0 1 1 0 0 1 1 1 1 0 1 1 0 0 0 1 0\n",
            " 1 0 1 1 1 0 1 1 0 0 1 0 0 0 0 1 0 0 0 1 0 1 0 1 1 0 1 0 0 0 0 1 1 0 0 1 1\n",
            " 1 0 1 1 1 1 1 0 0 1 1 0 1 1 0 0 1 0 1 1 1 1 0 1 1 1 1 1 0 1 0 0 0 0 0 0 0\n",
            " 0 0 0 0 0 0 0 1 1 1 1 1 1 0 1 0 1 1 0 1 1 0 1 0 0 1 1 1 1 1 1 1 1 1 1 1 1\n",
            " 1 0 1 1 0 1 0 1 1 1 1 1 1 1 1 1 1 1 1 1 1 0 1 1 1 0 1 0 1 1 1 1 0 0 0 1 1\n",
            " 1 1 0 1 0 1 0 1 1 1 0 1 1 1 1 1 1 1 0 0 0 1 1 1 1 1 1 1 1 1 1 1 0 0 1 0 0\n",
            " 0 1 0 0 1 1 1 1 1 0 1 1 1 1 1 0 1 1 1 0 1 1 0 0 1 1 1 1 1 1 0 1 1 1 1 1 1\n",
            " 1 0 1 1 1 1 1 0 1 1 0 1 1 1 1 1 1 1 1 1 1 1 1 0 1 0 0 1 0 1 1 1 1 1 0 1 1\n",
            " 0 1 0 1 1 0 1 0 1 1 1 1 1 1 1 1 0 0 1 1 1 1 1 1 0 1 1 1 1 1 1 1 1 1 1 0 1\n",
            " 1 1 1 1 1 1 0 1 0 1 1 0 1 1 1 1 1 0 0 1 0 1 0 1 1 1 1 1 0 1 1 0 1 0 1 0 0\n",
            " 1 1 1 0 1 1 1 1 1 1 1 1 1 1 1 0 1 0 0 1 1 1 1 1 1 1 1 1 1 1 1 1 1 1 1 1 1\n",
            " 1 1 1 1 1 1 1 0 0 0 0 0 0 1]\n"
          ]
        }
      ]
    },
    {
      "cell_type": "code",
      "source": [
        "from sklearn.model_selection import train_test_split\n",
        "X_train,X_test,y_train,y_test = train_test_split(X,y,test_size = 0.2,random_state = 0)"
      ],
      "metadata": {
        "id": "Kt_dyfwn_A9i"
      },
      "execution_count": null,
      "outputs": []
    },
    {
      "cell_type": "code",
      "source": [
        "print(X_train)"
      ],
      "metadata": {
        "colab": {
          "base_uri": "https://localhost:8080/"
        },
        "id": "j_dEey7n_q-H",
        "outputId": "2e21616b-4b06-464e-f6b6-a6b6140e4af4"
      },
      "execution_count": null,
      "outputs": [
        {
          "output_type": "stream",
          "name": "stdout",
          "text": [
            "[[1.005e+01 1.753e+01 6.441e+01 3.108e+02 1.007e-01]\n",
            " [1.080e+01 2.198e+01 6.879e+01 3.599e+02 8.801e-02]\n",
            " [1.614e+01 1.486e+01 1.043e+02 8.000e+02 9.495e-02]\n",
            " ...\n",
            " [9.436e+00 1.832e+01 5.982e+01 2.786e+02 1.009e-01]\n",
            " [9.720e+00 1.822e+01 6.073e+01 2.881e+02 6.950e-02]\n",
            " [1.151e+01 2.393e+01 7.452e+01 4.035e+02 9.261e-02]]\n"
          ]
        }
      ]
    },
    {
      "cell_type": "code",
      "source": [
        "print(X_test)"
      ],
      "metadata": {
        "colab": {
          "base_uri": "https://localhost:8080/"
        },
        "id": "EozT8nM0_vTR",
        "outputId": "1c0eda1d-23d2-4b59-f0e0-91c090cdc289"
      },
      "execution_count": null,
      "outputs": [
        {
          "output_type": "stream",
          "name": "stdout",
          "text": [
            "[[1.340e+01 2.052e+01 8.864e+01 5.567e+02 1.106e-01]\n",
            " [1.321e+01 2.525e+01 8.410e+01 5.379e+02 8.791e-02]\n",
            " [1.402e+01 1.566e+01 8.959e+01 6.065e+02 7.966e-02]\n",
            " [1.426e+01 1.817e+01 9.122e+01 6.331e+02 6.576e-02]\n",
            " [1.303e+01 1.842e+01 8.261e+01 5.238e+02 8.983e-02]\n",
            " [1.134e+01 1.861e+01 7.276e+01 3.912e+02 1.049e-01]\n",
            " [1.205e+01 2.272e+01 7.875e+01 4.478e+02 6.935e-02]\n",
            " [1.170e+01 1.911e+01 7.433e+01 4.187e+02 8.814e-02]\n",
            " [7.729e+00 2.549e+01 4.798e+01 1.788e+02 8.098e-02]\n",
            " [1.026e+01 1.471e+01 6.620e+01 3.216e+02 9.882e-02]\n",
            " [1.469e+01 1.398e+01 9.822e+01 6.561e+02 1.031e-01]\n",
            " [1.462e+01 2.402e+01 9.457e+01 6.627e+02 8.974e-02]\n",
            " [9.397e+00 2.168e+01 5.975e+01 2.688e+02 7.969e-02]\n",
            " [1.684e+01 1.946e+01 1.084e+02 8.802e+02 7.445e-02]\n",
            " [1.464e+01 1.524e+01 9.577e+01 6.519e+02 1.132e-01]\n",
            " [1.546e+01 1.189e+01 1.025e+02 7.369e+02 1.257e-01]\n",
            " [9.042e+00 1.890e+01 6.007e+01 2.445e+02 9.968e-02]\n",
            " [2.051e+01 2.781e+01 1.344e+02 1.319e+03 9.159e-02]\n",
            " [1.955e+01 2.321e+01 1.289e+02 1.174e+03 1.010e-01]\n",
            " [2.094e+01 2.356e+01 1.389e+02 1.364e+03 1.007e-01]\n",
            " [1.184e+01 1.870e+01 7.793e+01 4.406e+02 1.109e-01]\n",
            " [1.624e+01 1.877e+01 1.088e+02 8.051e+02 1.066e-01]\n",
            " [1.347e+01 1.406e+01 8.732e+01 5.463e+02 1.071e-01]\n",
            " [1.184e+01 1.894e+01 7.551e+01 4.280e+02 8.871e-02]\n",
            " [2.137e+01 1.510e+01 1.413e+02 1.386e+03 1.001e-01]\n",
            " [1.193e+01 1.091e+01 7.614e+01 4.427e+02 8.872e-02]\n",
            " [1.090e+01 1.296e+01 6.869e+01 3.668e+02 7.515e-02]\n",
            " [1.373e+01 2.261e+01 9.360e+01 5.783e+02 1.131e-01]\n",
            " [1.340e+01 1.695e+01 8.548e+01 5.524e+02 7.937e-02]\n",
            " [1.877e+01 2.143e+01 1.229e+02 1.092e+03 9.116e-02]\n",
            " [1.281e+01 1.306e+01 8.129e+01 5.088e+02 8.739e-02]\n",
            " [2.057e+01 1.777e+01 1.329e+02 1.326e+03 8.474e-02]\n",
            " [1.314e+01 2.074e+01 8.598e+01 5.369e+02 8.675e-02]\n",
            " [1.616e+01 2.154e+01 1.062e+02 8.098e+02 1.008e-01]\n",
            " [9.738e+00 1.197e+01 6.124e+01 2.885e+02 9.250e-02]\n",
            " [1.268e+01 2.384e+01 8.269e+01 4.990e+02 1.122e-01]\n",
            " [1.327e+01 1.702e+01 8.455e+01 5.464e+02 8.445e-02]\n",
            " [1.900e+01 1.891e+01 1.234e+02 1.138e+03 8.217e-02]\n",
            " [1.486e+01 1.694e+01 9.489e+01 6.737e+02 8.924e-02]\n",
            " [1.508e+01 2.574e+01 9.800e+01 7.166e+02 1.024e-01]\n",
            " [1.513e+01 2.981e+01 9.671e+01 7.195e+02 8.320e-02]\n",
            " [8.878e+00 1.549e+01 5.674e+01 2.410e+02 8.293e-02]\n",
            " [1.602e+01 2.324e+01 1.027e+02 7.978e+02 8.206e-02]\n",
            " [1.032e+01 1.635e+01 6.531e+01 3.249e+02 9.434e-02]\n",
            " [1.324e+01 2.013e+01 8.687e+01 5.429e+02 8.284e-02]\n",
            " [2.156e+01 2.239e+01 1.420e+02 1.479e+03 1.110e-01]\n",
            " [8.671e+00 1.445e+01 5.442e+01 2.272e+02 9.138e-02]\n",
            " [1.403e+01 2.125e+01 8.979e+01 6.034e+02 9.070e-02]\n",
            " [1.181e+01 1.739e+01 7.527e+01 4.289e+02 1.007e-01]\n",
            " [1.454e+01 2.754e+01 9.673e+01 6.588e+02 1.139e-01]\n",
            " [1.917e+01 2.480e+01 1.324e+02 1.123e+03 9.740e-02]\n",
            " [1.486e+01 2.321e+01 1.004e+02 6.714e+02 1.044e-01]\n",
            " [1.845e+01 2.191e+01 1.202e+02 1.075e+03 9.430e-02]\n",
            " [1.160e+01 1.836e+01 7.388e+01 4.127e+02 8.508e-02]\n",
            " [1.246e+01 1.989e+01 8.043e+01 4.713e+02 8.451e-02]\n",
            " [1.147e+01 1.603e+01 7.302e+01 4.027e+02 9.076e-02]\n",
            " [1.132e+01 2.708e+01 7.176e+01 3.957e+02 6.883e-02]\n",
            " [1.227e+01 2.997e+01 7.742e+01 4.654e+02 7.699e-02]\n",
            " [1.218e+01 2.052e+01 7.722e+01 4.587e+02 8.013e-02]\n",
            " [2.175e+01 2.099e+01 1.473e+02 1.491e+03 9.401e-02]\n",
            " [1.377e+01 2.229e+01 9.063e+01 5.889e+02 1.200e-01]\n",
            " [1.607e+01 1.965e+01 1.041e+02 8.177e+02 9.168e-02]\n",
            " [1.114e+01 1.407e+01 7.124e+01 3.846e+02 7.274e-02]\n",
            " [1.287e+01 1.621e+01 8.238e+01 5.122e+02 9.425e-02]\n",
            " [1.760e+01 2.333e+01 1.190e+02 9.805e+02 9.289e-02]\n",
            " [1.204e+01 2.814e+01 7.685e+01 4.499e+02 8.752e-02]\n",
            " [2.227e+01 1.967e+01 1.528e+02 1.509e+03 1.326e-01]\n",
            " [1.746e+01 3.928e+01 1.134e+02 9.206e+02 9.812e-02]\n",
            " [2.058e+01 2.214e+01 1.347e+02 1.290e+03 9.090e-02]\n",
            " [9.465e+00 2.101e+01 6.011e+01 2.694e+02 1.044e-01]\n",
            " [1.442e+01 1.654e+01 9.415e+01 6.412e+02 9.751e-02]\n",
            " [1.613e+01 2.068e+01 1.081e+02 7.988e+02 1.170e-01]\n",
            " [1.152e+01 1.493e+01 7.387e+01 4.063e+02 1.013e-01]\n",
            " [1.460e+01 2.329e+01 9.397e+01 6.647e+02 8.682e-02]\n",
            " [1.865e+01 1.760e+01 1.237e+02 1.076e+03 1.099e-01]\n",
            " [1.300e+01 2.513e+01 8.261e+01 5.202e+02 8.369e-02]\n",
            " [8.571e+00 1.310e+01 5.453e+01 2.213e+02 1.036e-01]\n",
            " [1.305e+01 1.859e+01 8.509e+01 5.120e+02 1.082e-01]\n",
            " [1.166e+01 1.707e+01 7.370e+01 4.210e+02 7.561e-02]\n",
            " [8.734e+00 1.684e+01 5.527e+01 2.343e+02 1.039e-01]\n",
            " [1.660e+01 2.808e+01 1.083e+02 8.581e+02 8.455e-02]\n",
            " [2.018e+01 2.397e+01 1.437e+02 1.245e+03 1.286e-01]\n",
            " [1.578e+01 2.291e+01 1.057e+02 7.826e+02 1.155e-01]\n",
            " [1.243e+01 1.700e+01 7.860e+01 4.773e+02 7.557e-02]\n",
            " [1.603e+01 1.551e+01 1.058e+02 7.932e+02 9.491e-02]\n",
            " [1.232e+01 1.239e+01 7.885e+01 4.641e+02 1.028e-01]\n",
            " [1.350e+01 1.271e+01 8.569e+01 5.662e+02 7.376e-02]\n",
            " [8.196e+00 1.684e+01 5.171e+01 2.019e+02 8.600e-02]\n",
            " [1.719e+01 2.207e+01 1.116e+02 9.283e+02 9.726e-02]\n",
            " [2.060e+01 2.933e+01 1.401e+02 1.265e+03 1.178e-01]\n",
            " [9.504e+00 1.244e+01 6.034e+01 2.739e+02 1.024e-01]\n",
            " [1.512e+01 1.668e+01 9.878e+01 7.166e+02 8.876e-02]\n",
            " [1.499e+01 2.211e+01 9.753e+01 6.937e+02 8.515e-02]\n",
            " [1.522e+01 3.062e+01 1.034e+02 7.169e+02 1.048e-01]\n",
            " [9.405e+00 2.170e+01 5.960e+01 2.712e+02 1.044e-01]\n",
            " [9.876e+00 1.940e+01 6.395e+01 2.983e+02 1.005e-01]\n",
            " [1.550e+01 2.108e+01 1.029e+02 8.031e+02 1.120e-01]\n",
            " [1.289e+01 1.411e+01 8.495e+01 5.122e+02 8.760e-02]\n",
            " [1.157e+01 1.904e+01 7.420e+01 4.097e+02 8.546e-02]\n",
            " [1.143e+01 1.731e+01 7.366e+01 3.980e+02 1.092e-01]\n",
            " [8.888e+00 1.464e+01 5.879e+01 2.440e+02 9.783e-02]\n",
            " [1.236e+01 1.854e+01 7.901e+01 4.667e+02 8.477e-02]\n",
            " [1.497e+01 1.976e+01 9.550e+01 6.902e+02 8.421e-02]\n",
            " [1.405e+01 2.715e+01 9.138e+01 6.004e+02 9.929e-02]\n",
            " [1.846e+01 1.852e+01 1.211e+02 1.075e+03 9.874e-02]\n",
            " [9.268e+00 1.287e+01 6.149e+01 2.487e+02 1.634e-01]\n",
            " [1.791e+01 2.102e+01 1.244e+02 9.940e+02 1.230e-01]\n",
            " [1.288e+01 1.822e+01 8.445e+01 4.931e+02 1.218e-01]\n",
            " [1.561e+01 1.938e+01 1.000e+02 7.586e+02 7.840e-02]\n",
            " [1.742e+01 2.556e+01 1.145e+02 9.480e+02 1.006e-01]\n",
            " [1.275e+01 1.670e+01 8.251e+01 4.938e+02 1.125e-01]\n",
            " [2.018e+01 1.954e+01 1.338e+02 1.250e+03 1.133e-01]\n",
            " [1.831e+01 2.058e+01 1.208e+02 1.052e+03 1.068e-01]\n",
            " [1.504e+01 1.674e+01 9.873e+01 6.894e+02 9.883e-02]]\n"
          ]
        }
      ]
    },
    {
      "cell_type": "code",
      "source": [
        "print(y_train)"
      ],
      "metadata": {
        "colab": {
          "base_uri": "https://localhost:8080/"
        },
        "id": "ArQ_oZpB_2Nn",
        "outputId": "67e1cc57-df8f-4032-da0e-34b879b77cf8"
      },
      "execution_count": null,
      "outputs": [
        {
          "output_type": "stream",
          "name": "stdout",
          "text": [
            "[1 1 1 1 1 1 1 1 0 1 0 1 1 1 1 1 0 1 1 1 1 1 1 0 0 1 1 1 0 1 1 0 1 0 1 1 1\n",
            " 1 1 1 1 0 1 0 1 0 0 1 1 0 1 0 0 0 1 1 1 1 1 1 0 1 1 1 1 0 0 1 1 0 1 1 1 1\n",
            " 0 1 1 0 0 1 1 0 0 1 1 0 1 1 0 0 0 1 1 1 0 1 1 1 1 1 0 1 0 1 0 1 0 1 0 1 1\n",
            " 1 1 0 1 0 1 1 1 0 1 1 1 0 1 1 0 0 1 0 1 0 1 0 0 0 0 1 0 1 0 1 0 1 0 1 1 0\n",
            " 1 1 1 1 1 1 1 1 1 1 1 1 1 0 1 1 1 0 1 1 1 1 1 1 0 1 0 1 1 0 1 0 0 1 0 0 1\n",
            " 1 0 1 1 1 0 1 1 1 1 1 0 0 1 1 1 1 0 0 1 1 1 1 0 1 1 0 1 1 0 1 0 1 1 1 1 0\n",
            " 0 0 0 1 0 1 0 0 1 1 1 1 1 0 1 1 0 1 1 0 0 1 1 1 0 0 1 1 0 1 1 1 0 1 0 1 0\n",
            " 0 0 0 1 1 1 1 0 0 1 1 1 1 1 0 1 1 0 1 1 0 0 0 0 1 1 0 1 1 1 0 0 1 1 1 1 1\n",
            " 0 0 0 1 0 0 1 1 1 1 1 1 0 1 1 1 1 1 1 0 0 1 0 1 0 0 1 1 1 1 1 0 0 0 1 1 0\n",
            " 0 1 1 0 1 0 0 1 0 1 1 1 1 1 1 1 0 0 1 1 1 0 1 1 1 1 0 1 0 0 0 1 0 1 0 1 0\n",
            " 0 1 1 1 1 1 1 1 1 0 0 0 0 0 1 1 1 1 1 1 1 0 1 0 1 1 1 1 1 0 0 0 1 0 1 1 0\n",
            " 0 0 0 1 0 0 0 1 0 1 0 1 1 0 0 1 0 1 1 1 1 0 1 1 0 1 1 1 0 0 1 1 1 0 1 1 0\n",
            " 1 1 1 1 1 0 0 0 1 1 1]\n"
          ]
        }
      ]
    },
    {
      "cell_type": "code",
      "source": [
        "print(y_test)"
      ],
      "metadata": {
        "colab": {
          "base_uri": "https://localhost:8080/"
        },
        "id": "SDtG9roG_5z2",
        "outputId": "e66bf422-b0e9-4291-d07b-39792297812e"
      },
      "execution_count": null,
      "outputs": [
        {
          "output_type": "stream",
          "name": "stdout",
          "text": [
            "[0 1 1 1 1 1 1 1 1 1 1 1 1 1 1 0 1 0 0 0 0 0 1 1 0 1 1 0 1 0 1 0 1 0 1 0 1\n",
            " 0 1 0 0 1 0 1 1 0 1 1 1 0 0 0 0 1 1 1 1 1 1 0 0 0 1 1 0 1 0 0 0 1 1 0 1 0\n",
            " 0 1 1 1 1 1 0 0 0 1 0 1 1 1 0 0 1 0 1 0 1 1 0 1 1 1 1 1 1 1 0 1 0 1 0 0 1\n",
            " 0 0 1]\n"
          ]
        }
      ]
    },
    {
      "cell_type": "code",
      "source": [
        "\n",
        "rf = RandomForestClassifier()\n",
        "rf.fit(X_train,y_train)"
      ],
      "metadata": {
        "colab": {
          "base_uri": "https://localhost:8080/",
          "height": 75
        },
        "id": "BTG0CrClAASM",
        "outputId": "178f4724-1ad8-432e-f1dc-16a8aff19a2c"
      },
      "execution_count": null,
      "outputs": [
        {
          "output_type": "execute_result",
          "data": {
            "text/plain": [
              "RandomForestClassifier()"
            ],
            "text/html": [
              "<style>#sk-container-id-1 {color: black;background-color: white;}#sk-container-id-1 pre{padding: 0;}#sk-container-id-1 div.sk-toggleable {background-color: white;}#sk-container-id-1 label.sk-toggleable__label {cursor: pointer;display: block;width: 100%;margin-bottom: 0;padding: 0.3em;box-sizing: border-box;text-align: center;}#sk-container-id-1 label.sk-toggleable__label-arrow:before {content: \"▸\";float: left;margin-right: 0.25em;color: #696969;}#sk-container-id-1 label.sk-toggleable__label-arrow:hover:before {color: black;}#sk-container-id-1 div.sk-estimator:hover label.sk-toggleable__label-arrow:before {color: black;}#sk-container-id-1 div.sk-toggleable__content {max-height: 0;max-width: 0;overflow: hidden;text-align: left;background-color: #f0f8ff;}#sk-container-id-1 div.sk-toggleable__content pre {margin: 0.2em;color: black;border-radius: 0.25em;background-color: #f0f8ff;}#sk-container-id-1 input.sk-toggleable__control:checked~div.sk-toggleable__content {max-height: 200px;max-width: 100%;overflow: auto;}#sk-container-id-1 input.sk-toggleable__control:checked~label.sk-toggleable__label-arrow:before {content: \"▾\";}#sk-container-id-1 div.sk-estimator input.sk-toggleable__control:checked~label.sk-toggleable__label {background-color: #d4ebff;}#sk-container-id-1 div.sk-label input.sk-toggleable__control:checked~label.sk-toggleable__label {background-color: #d4ebff;}#sk-container-id-1 input.sk-hidden--visually {border: 0;clip: rect(1px 1px 1px 1px);clip: rect(1px, 1px, 1px, 1px);height: 1px;margin: -1px;overflow: hidden;padding: 0;position: absolute;width: 1px;}#sk-container-id-1 div.sk-estimator {font-family: monospace;background-color: #f0f8ff;border: 1px dotted black;border-radius: 0.25em;box-sizing: border-box;margin-bottom: 0.5em;}#sk-container-id-1 div.sk-estimator:hover {background-color: #d4ebff;}#sk-container-id-1 div.sk-parallel-item::after {content: \"\";width: 100%;border-bottom: 1px solid gray;flex-grow: 1;}#sk-container-id-1 div.sk-label:hover label.sk-toggleable__label {background-color: #d4ebff;}#sk-container-id-1 div.sk-serial::before {content: \"\";position: absolute;border-left: 1px solid gray;box-sizing: border-box;top: 0;bottom: 0;left: 50%;z-index: 0;}#sk-container-id-1 div.sk-serial {display: flex;flex-direction: column;align-items: center;background-color: white;padding-right: 0.2em;padding-left: 0.2em;position: relative;}#sk-container-id-1 div.sk-item {position: relative;z-index: 1;}#sk-container-id-1 div.sk-parallel {display: flex;align-items: stretch;justify-content: center;background-color: white;position: relative;}#sk-container-id-1 div.sk-item::before, #sk-container-id-1 div.sk-parallel-item::before {content: \"\";position: absolute;border-left: 1px solid gray;box-sizing: border-box;top: 0;bottom: 0;left: 50%;z-index: -1;}#sk-container-id-1 div.sk-parallel-item {display: flex;flex-direction: column;z-index: 1;position: relative;background-color: white;}#sk-container-id-1 div.sk-parallel-item:first-child::after {align-self: flex-end;width: 50%;}#sk-container-id-1 div.sk-parallel-item:last-child::after {align-self: flex-start;width: 50%;}#sk-container-id-1 div.sk-parallel-item:only-child::after {width: 0;}#sk-container-id-1 div.sk-dashed-wrapped {border: 1px dashed gray;margin: 0 0.4em 0.5em 0.4em;box-sizing: border-box;padding-bottom: 0.4em;background-color: white;}#sk-container-id-1 div.sk-label label {font-family: monospace;font-weight: bold;display: inline-block;line-height: 1.2em;}#sk-container-id-1 div.sk-label-container {text-align: center;}#sk-container-id-1 div.sk-container {/* jupyter's `normalize.less` sets `[hidden] { display: none; }` but bootstrap.min.css set `[hidden] { display: none !important; }` so we also need the `!important` here to be able to override the default hidden behavior on the sphinx rendered scikit-learn.org. See: https://github.com/scikit-learn/scikit-learn/issues/21755 */display: inline-block !important;position: relative;}#sk-container-id-1 div.sk-text-repr-fallback {display: none;}</style><div id=\"sk-container-id-1\" class=\"sk-top-container\"><div class=\"sk-text-repr-fallback\"><pre>RandomForestClassifier()</pre><b>In a Jupyter environment, please rerun this cell to show the HTML representation or trust the notebook. <br />On GitHub, the HTML representation is unable to render, please try loading this page with nbviewer.org.</b></div><div class=\"sk-container\" hidden><div class=\"sk-item\"><div class=\"sk-estimator sk-toggleable\"><input class=\"sk-toggleable__control sk-hidden--visually\" id=\"sk-estimator-id-1\" type=\"checkbox\" checked><label for=\"sk-estimator-id-1\" class=\"sk-toggleable__label sk-toggleable__label-arrow\">RandomForestClassifier</label><div class=\"sk-toggleable__content\"><pre>RandomForestClassifier()</pre></div></div></div></div></div>"
            ]
          },
          "metadata": {},
          "execution_count": 12
        }
      ]
    },
    {
      "cell_type": "code",
      "source": [
        "y_pred = rf.predict(X_test)\n",
        "print(y_pred)"
      ],
      "metadata": {
        "colab": {
          "base_uri": "https://localhost:8080/"
        },
        "id": "xvpELSXQBdCp",
        "outputId": "989a9b00-9791-417e-d8a0-ec710ccc7597"
      },
      "execution_count": null,
      "outputs": [
        {
          "output_type": "stream",
          "name": "stdout",
          "text": [
            "[0 1 1 1 1 1 1 1 1 1 1 1 1 0 1 0 1 0 0 0 1 0 1 1 0 1 1 0 1 0 1 0 1 0 1 1 1\n",
            " 0 1 0 0 1 0 1 1 0 1 1 1 0 0 0 0 1 1 1 1 1 1 0 0 0 1 1 0 1 0 0 0 1 1 0 1 1\n",
            " 0 1 1 1 1 1 0 0 0 1 1 1 1 1 0 0 1 0 1 0 1 1 0 1 1 1 1 1 1 0 0 1 0 1 0 0 1\n",
            " 0 0 1]\n"
          ]
        }
      ]
    },
    {
      "cell_type": "code",
      "source": [
        "cf = confusion_matrix(y_pred,y_test)\n",
        "print(cf)"
      ],
      "metadata": {
        "colab": {
          "base_uri": "https://localhost:8080/"
        },
        "id": "B5axGM3-CFTp",
        "outputId": "77cf5f1e-0843-4c91-bc68-257e4ab6cdeb"
      },
      "execution_count": null,
      "outputs": [
        {
          "output_type": "stream",
          "name": "stdout",
          "text": [
            "[[43  2]\n",
            " [ 4 65]]\n"
          ]
        }
      ]
    },
    {
      "cell_type": "code",
      "source": [
        "ac = accuracy_score(y_pred,y_test)\n",
        "ps = precision_score(y_pred,y_test)\n",
        "rs = recall_score(y_pred,y_test)\n",
        "print(\"Accuracy Score:\",ac*100)\n",
        "print(\"Precision Score:\",ps*100)\n",
        "print(\"Recall Score:\",rs*100)"
      ],
      "metadata": {
        "colab": {
          "base_uri": "https://localhost:8080/"
        },
        "id": "8WyrkZZBCx5w",
        "outputId": "24f24254-ccab-4cc8-ed58-178c2361a39b"
      },
      "execution_count": null,
      "outputs": [
        {
          "output_type": "stream",
          "name": "stdout",
          "text": [
            "Accuracy Score: 94.73684210526315\n",
            "Precision Score: 97.01492537313433\n",
            "Recall Score: 94.20289855072464\n"
          ]
        }
      ]
    },
    {
      "cell_type": "code",
      "source": [],
      "metadata": {
        "id": "lSygBxSsmQIy"
      },
      "execution_count": null,
      "outputs": []
    }
  ]
}